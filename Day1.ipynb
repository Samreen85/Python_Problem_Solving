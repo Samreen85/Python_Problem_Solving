{
 "cells": [
  {
   "cell_type": "markdown",
   "metadata": {},
   "source": [
    "# Python Problem Solving\n",
    "#### These problems are taken from Codecademy from the following link:\n",
    "https://www.codecademy.com/resources/blog/python-code-challenges-for-beginners/"
   ]
  },
  {
   "cell_type": "markdown",
   "metadata": {},
   "source": [
    "### Problem1: Convert radians into degrees\n",
    "Write a function in Python that accepts one numeric parameter. This parameter will be the measure of an angle in radians. The function should convert the radians into degrees and then return that value.\n",
    "While you might find a Python library to do this for you, you should write the function yourself. One hint you get is that you’ll need to use Pi in order to solve this problem. You can import the value for Pi from Python’s math module."
   ]
  },
  {
   "cell_type": "code",
   "execution_count": 57,
   "metadata": {},
   "outputs": [
    {
     "name": "stdout",
     "output_type": "stream",
     "text": [
      "1031.324031235482\n"
     ]
    }
   ],
   "source": [
    "import math\n",
    "def radians_to_degrees(radians):\n",
    "    degrees = radians * 180/math.pi\n",
    "    return degrees\n",
    "\n",
    "radians = int(input(\"Enter Radians: \"))\n",
    "\n",
    "degrees = radians_to_degrees(radians)\n",
    "print(degrees)"
   ]
  },
  {
   "cell_type": "markdown",
   "metadata": {},
   "source": [
    "#### Problem 2: Sort a list\n",
    "Create a function in Python that accepts two parameters. The first will be a list of numbers. The second parameter will be a string that can be one of the following values: asc, desc, and none.\n",
    "If the second parameter is “asc,” then the function should return a list with the numbers in ascending order. If it’s “desc,” then the list should be in descending order, and if it’s “none,” it should return the original list unaltered."
   ]
  },
  {
   "cell_type": "code",
   "execution_count": 13,
   "metadata": {},
   "outputs": [
    {
     "name": "stdout",
     "output_type": "stream",
     "text": [
      "['5', '4', '3', '2', '1', ' ', ' ', ' ', ' ']\n"
     ]
    }
   ],
   "source": [
    "def sort_list(my_list, order):\n",
    "    if order == 'asc':\n",
    "        my_list.sort()\n",
    "        return my_list\n",
    "    elif order == 'desc':\n",
    "        my_list.sort(reverse=True)\n",
    "        return my_list\n",
    "    else:\n",
    "        return my_list\n",
    "\n",
    "my_list = list(input(\"Enter list: \"))\n",
    "order = str(input(\"Enter the sort order(asc, desc, none): \"))\n",
    "new_list = sort_list(my_list, order)\n",
    "print(new_list)"
   ]
  },
  {
   "cell_type": "markdown",
   "metadata": {},
   "source": [
    "#### Problem 3: Convert a decimal number into binary\n",
    "Write a function in Python that accepts a decimal number and returns the equivalent binary number. To make this simple, the decimal number will always be less than 1,024, so the binary number returned will always be less than ten digits long."
   ]
  },
  {
   "cell_type": "code",
   "execution_count": 5,
   "metadata": {},
   "outputs": [
    {
     "name": "stdout",
     "output_type": "stream",
     "text": [
      "Binary of entered decimal is:  101\n"
     ]
    }
   ],
   "source": [
    "def decimal_to_binary(decimal_number):\n",
    "    binary_number = bin(decimal_number)\n",
    "    return binary_number\n",
    "    \n",
    "decimal_number = int(input(\"Enter a decimal number less than 1024: \"))\n",
    "binary_number = decimal_to_binary(decimal_number)\n",
    "print(\"Binary of entered decimal is: \", binary_number[2:])"
   ]
  },
  {
   "cell_type": "markdown",
   "metadata": {},
   "source": [
    "### Problem 4: Count the vowels in a string\n",
    "Create a function in Python that accepts a single word and returns the number of vowels in that word. In this function, only a, e, i, o, and u will be counted as vowels — not y."
   ]
  },
  {
   "cell_type": "code",
   "execution_count": 6,
   "metadata": {},
   "outputs": [
    {
     "name": "stdout",
     "output_type": "stream",
     "text": [
      "yes exist\n",
      "yes exist\n",
      "yes exist\n",
      "Numbers of vowels in c:  3\n"
     ]
    }
   ],
   "source": [
    "new_string = str(input(\"Enter a string which contains vowels:\"))\n",
    "c = 0\n",
    "vowels_list = ['a', 'e', 'i', 'o', 'u']\n",
    "\n",
    "for i in new_string:\n",
    "    if i in vowels_list:\n",
    "        print(\"yes following vowel exist\", i)\n",
    "        c = c+1\n",
    "    else:\n",
    "        continue\n",
    "\n",
    "print(\"Numbers of vowels in c: \", c)"
   ]
  },
  {
   "cell_type": "markdown",
   "metadata": {},
   "source": [
    "### Problem 5: Hide the credit card number\n",
    "Write a function in Python that accepts a credit card number. It should return a string where all the characters are hidden with an asterisk except the last four. For example, if the function gets sent “4444444444444444”, then it should return “4444”."
   ]
  },
  {
   "cell_type": "code",
   "execution_count": 14,
   "metadata": {},
   "outputs": [
    {
     "name": "stdout",
     "output_type": "stream",
     "text": [
      "Last 4 digts of entered credit card is:  3456\n"
     ]
    }
   ],
   "source": [
    "def hide_credit_card(credit_card):\n",
    "    return str(credit_card)[-4:]\n",
    "    \n",
    "credit_card = 1234567890123456\n",
    "last_4_digits = hide_credit_card(credit_card)\n",
    "print(\"Last 4 digts of entered credit card is: \", last_4_digits)"
   ]
  },
  {
   "cell_type": "markdown",
   "metadata": {},
   "source": [
    "### Problem 6: Are the Xs equal to the Os?\n",
    "Create a Python function that accepts a string. This function should count the number of Xs and the number of Os in the string. It should then return a boolean value of either True or False.\n",
    "\n",
    "If the count of Xs and Os are equal, then the function should return True. If the count isn’t the same, it should return False. If there are no Xs or Os in the string, it should also return True because 0 equals 0. The string can contain any type and number of characters."
   ]
  },
  {
   "cell_type": "code",
   "execution_count": 24,
   "metadata": {},
   "outputs": [
    {
     "name": "stdout",
     "output_type": "stream",
     "text": [
      "Xs:  1\n",
      "Os:  0\n",
      "Result is False\n"
     ]
    }
   ],
   "source": [
    "def count_char(my_string):\n",
    "    X_count = 0\n",
    "    O_count = 0\n",
    "    for i in my_string:\n",
    "        if i == 'X' or i == 'x':\n",
    "            X_count = X_count+1\n",
    "        elif i == 'O' or i == 'o':\n",
    "            O_count = O_count+1\n",
    "        else:\n",
    "            continue\n",
    "    print(\"Xs: \", X_count)\n",
    "    print(\"Os: \", O_count)\n",
    "\n",
    "    if X_count == 0 and O_count == 0:\n",
    "        return True\n",
    "    if X_count == O_count:\n",
    "        return True\n",
    "    elif X_count != O_count:\n",
    "        return False\n",
    "    \n",
    "my_str = input(\"Enter a string: \")\n",
    "result = count_char(my_str)\n",
    "print(\"Result is: \", result)"
   ]
  },
  {
   "cell_type": "markdown",
   "metadata": {},
   "source": [
    "### Problem 7: Create a calculator function\n",
    "Write a Python function that accepts three parameters. The first parameter is an integer. The second is one of the following mathematical operators: +, -, /, or . The third parameter will also be an integer.\n",
    "\n",
    "The function should perform a calculation and return the results. For example, if the function is passed 6 and 4, it should return 24."
   ]
  },
  {
   "cell_type": "code",
   "execution_count": 31,
   "metadata": {},
   "outputs": [
    {
     "name": "stdout",
     "output_type": "stream",
     "text": [
      "Calculation result is:  2.0\n"
     ]
    }
   ],
   "source": [
    "def calculator(param_one, param_two, operator):\n",
    "    if operator == '+':\n",
    "        return param_one + param_two\n",
    "    elif operator == '-':\n",
    "        return param_one - param_two\n",
    "    elif operator == '*':\n",
    "        return param_one * param_two\n",
    "    elif operator == '/':\n",
    "        return param_one / param_two\n",
    "    else:\n",
    "        print(\"Enter valid operator\")\n",
    "\n",
    "\n",
    "param_one = int(input(\"Enter integer one: \"))\n",
    "operator = str(input(\"Enter mathematical operator: \"))\n",
    "param_two = int(input(\"Enter integer two: \"))\n",
    "\n",
    "cal_result = calculator(param_one, param_two, operator)\n",
    "print(\"Calculation result is: \", cal_result)"
   ]
  },
  {
   "cell_type": "markdown",
   "metadata": {},
   "source": [
    "### Problem 8: Give me the discount\n",
    "Create a function in Python that accepts two parameters. The first should be the full price of an item as an integer. The second should be the discount percentage as an integer.\n",
    "\n",
    "The function should return the price of the item after the discount has been applied. For example, if the price is 100 and the discount is 20, the function should return 80."
   ]
  },
  {
   "cell_type": "code",
   "execution_count": 44,
   "metadata": {},
   "outputs": [
    {
     "name": "stdout",
     "output_type": "stream",
     "text": [
      "Amount with 20 % discount is:  800.0\n"
     ]
    }
   ],
   "source": [
    "def discount_price(full_price, discount):\n",
    "    new_price = (discount / 100) * full_price\n",
    "    return full_price - new_price\n",
    "\n",
    "full_price = int(input(\"Enter full price: \"))\n",
    "discount_per = int(input(\"Enter discount in %\"))\n",
    "\n",
    "d_price = discount_price(full_price, discount_per)\n",
    "print(\"Amount with\", discount_per, \"% discount\", \"is: \", d_price)"
   ]
  },
  {
   "cell_type": "markdown",
   "metadata": {},
   "source": [
    "### Problem 9: Just the numbers\n",
    "Write a function in Python that accepts a list of any length that contains a mix of non-negative integers and strings. The function should return a list with only the integers in the original list in the same order."
   ]
  },
  {
   "cell_type": "code",
   "execution_count": 47,
   "metadata": {},
   "outputs": [
    {
     "name": "stdout",
     "output_type": "stream",
     "text": [
      "new list is: [1, 5, 3, 0]\n"
     ]
    }
   ],
   "source": [
    "def list_with_integers(my_list):\n",
    "    new_list = []\n",
    "    for i in my_list:\n",
    "        if type(i) == int:\n",
    "            new_list.append(i)\n",
    "    return new_list\n",
    "\n",
    "my_list = [\"Samreen\", 1, 5, \"Malik\", 0.6, 4j, 3, None, 0]\n",
    "new_list = list_with_integers(my_list)\n",
    "print(\"new list is:\", new_list)"
   ]
  },
  {
   "cell_type": "markdown",
   "metadata": {},
   "source": [
    "### Problem 10: Repeat the characters\n",
    "Create a Python function that accepts a string. The function should return a string, with each character in the original string doubled. If you send the function “now” as a parameter, it should return “nnooww,” and if you send “123a!”, it should return “112233aa!!”."
   ]
  },
  {
   "cell_type": "code",
   "execution_count": 56,
   "metadata": {},
   "outputs": [
    {
     "name": "stdout",
     "output_type": "stream",
     "text": [
      "double character string is:  112233aa!!\n"
     ]
    }
   ],
   "source": [
    "def char_double(my_string):\n",
    "    new_string = ''\n",
    "    for i in my_string:\n",
    "        new_string+= i\n",
    "        new_string+= i\n",
    "    return new_string\n",
    "\n",
    "my_string = input(\"Enter a string: \")\n",
    "double_char_string = char_double(my_string)\n",
    "print(\"double character string is: \", double_char_string)"
   ]
  }
 ],
 "metadata": {
  "kernelspec": {
   "display_name": "Python 3",
   "language": "python",
   "name": "python3"
  },
  "language_info": {
   "codemirror_mode": {
    "name": "ipython",
    "version": 3
   },
   "file_extension": ".py",
   "mimetype": "text/x-python",
   "name": "python",
   "nbconvert_exporter": "python",
   "pygments_lexer": "ipython3",
   "version": "3.11.9"
  }
 },
 "nbformat": 4,
 "nbformat_minor": 2
}
